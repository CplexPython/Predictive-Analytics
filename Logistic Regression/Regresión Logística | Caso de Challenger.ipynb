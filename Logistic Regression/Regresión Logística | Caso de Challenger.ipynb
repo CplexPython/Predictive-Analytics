{
 "cells": [
  {
   "cell_type": "markdown",
   "metadata": {},
   "source": [
    "![title](UCN ICI.png)\n",
    "\n",
    " #  <font color=blue> Introducción a Machine Learning | Regresión Logística </font>\n",
    "\n",
    "<div class=\"alert alert-info\"> </h4> **Material preparado para la carrera de Ingeniería Civil Industrial | Universidad Católica del Norte | Campus Coquimbo | Curso - Cadena de Suministros.**\n",
    "</h4> </div>\n",
    "\n",
    "Explicar el concepto e introducción a la regresión logística.\n",
    "Base en la distribución de probabilidad de Bernoulli $\\;f(y,p)=\\displaystyle\\prod_{i=1}^np_i^{y_i}(1-p_i)^{1-y_i}$ $\\;$donde $\\;y_i=0,1$ y $p=\\mu$\n",
    "\n",
    "Método de Máxima verosimilitud:\n",
    "\n",
    "$\\;L(y_i,p_i)=p_i^{y_i}(1-p_i)^{1-y_i} \\;\\Rightarrow L(y,p)=\\displaystyle\\prod_{i=1}^n exp \n",
    "\\Big[ y_i\\ln \\Big( \\frac{p_i}{1-p_i} \\Big)+\\ln(1-p_i) \\Big]$\n",
    "\n",
    "Aplicando logaritmo:\n",
    "$\\ln(L(p_i,y_i))= \\mathcal{L}(p_i,y_i)\\Rightarrow \\mathcal{L}(p_i,y_i)=\\displaystyle\\sum_{i=1}^{n} \\Big[ y_i\\ln \\Big( \\frac{p_i}{1-p_i} \\Big)+ln(1-p_i) \\Big]$\n",
    "\n",
    "media $\\mu=p$\n",
    "\n",
    "varianza $V(\\mu)=p(1-p)\\; \\Rightarrow \\; V(\\mu)=\\mu(1-\\mu)$\n",
    "\n",
    "Regresión: $\\hat{y_i}=\\beta_0+\\beta_1x_{i1}+\\beta_2x_{i2}+...+\\beta_px_{ip}$\n",
    "\n",
    "En modelos lineal:$\\hat{y_i}=xb$\n",
    "\n",
    "En modelos logísticos: $\\hat{x_i}=\\beta_0+\\beta_1x_{i1}+\\beta_2x_{i2}+...+\\beta_px_{ip}$\n",
    "\n",
    "$\\ln \\Big( \\frac{\\mu}{1-\\mu_i} \\Big)=\\beta_0+\\beta_1x_{i1}+\\beta_2x_{i2}+...+\\beta_px_{ip}$\n",
    "\n",
    "Resolviendo el modelo:\n",
    "\n",
    "$\\mu=\\frac{exp(x_b)}{1-exp(x_b)} \\; \\Rightarrow \\;\\mu=\\frac{1}{1+exp(-x_b)}$"
   ]
  },
  {
   "cell_type": "code",
   "execution_count": 1,
   "metadata": {},
   "outputs": [],
   "source": [
    "def logistic(x):\n",
    "    import numpy as np\n",
    "    e=np.exp(-x)\n",
    "    mu=1/(1+e)\n",
    "    return(mu)\n",
    "    # fin de la funcion"
   ]
  },
  {
   "cell_type": "code",
   "execution_count": 2,
   "metadata": {},
   "outputs": [
    {
     "data": {
      "image/png": "[encoded data removed]",
      "text/plain": [
       "<matplotlib.figure.Figure at 0x10a2fef60>"
      ]
     },
     "metadata": {},
     "output_type": "display_data"
    }
   ],
   "source": [
    "i=[x for x in range(-10,11)]\n",
    "r=[logistic(x) for x in range(-10,11)]\n",
    "\n",
    "import matplotlib.pyplot as plt\n",
    "\n",
    "plt.figure(figsize=(10,5))\n",
    "plt.plot(i,r)\n",
    "\n",
    "plt.xlabel(\"x\")\n",
    "plt.ylabel(\"y\")\n",
    "plt.title(\"Regresión Logística\")\n",
    "\n",
    "plt.show()"
   ]
  },
  {
   "cell_type": "markdown",
   "metadata": {},
   "source": [
    "## Desastre del transbordador espacial Challenger:\n",
    "\n",
    "El accidente del transbordador espacial Challenger se produjo el martes 28 de enero de 1986 cuando el transbordador espacial Challenger (misión STS-51-L) se desintegró 73 segundos después del lanzamiento provocando la muerte de los siete miembros de la tripulación —Francis \"Dick\" Scobee, Michael J. Smith, Ronald McNair, Ellison Onizuka, Gregory Jarvis, Judith Resnik y Christa McAuliffe. La nave se desintegró sobre el océano Atlántico, frente a la costa del centro de Florida (Estados Unidos) a las 11:38 EST (16:38 UTC). Ha sido calificado como el accidente más grave en la conquista del espacio.\n",
    "\n",
    "Cada uno de los dos cohetes de combustible sólido del transbordador espacial (SRBs) que formaban parte del Sistema de Transporte Espacial se construia en siete secciones, seis de las cuales se unieron de a dos de fábrica de forma permanente. Para cada vuelo, se unían los cuatro segmentos resultantes en el Edificio de ensamblaje de vehículos (Vehicle Assembly Building) en el Centro Espacial Kennedy (KSC), con tres uniones de campo. De fábrica, se sellaban las uniones con aislamiento de amianto-sílice aplicado sobre la juntura, mientras que cada conjunto de campo se sellaba con dos juntas tóricas de caucho.\n",
    "\n",
    "Para el 28 de enero se pronosticaba una mañana inusualmente fría, con temperaturas cercanas a 1 °C, la temperatura mínima permitida para un lanzamiento. Las temperaturas bajas habían suscitado la preocupación de los ingenieros de Thiokol.\n",
    "\n",
    "En el día del lanzamiento, la temperatura fue mucho más baja que en los lanzamientos anteriores: por debajo de cero a 28 a 29 °F (-2,2 a -1,7 °C); anteriormente, el lanzamiento más frío había sido a los 53 °F (12 °C). Aunque el equipo de hielo había trabajado por la noche eliminando el hielo, los ingenieros de Rockwell aún expresaban su preocupación.\n",
    "\n",
    "<img src=\"challenger.jpg\" width=\"200\" height=\"200\" />\n",
    "\n",
    "Estos, viendo la plataforma desde su sede en Downey, California, se horrorizaron cuando vieron la cantidad de hielo. Temían que durante el lanzamiento se pudiera sacudir el hielo, soltándose y golpeando las baldosas de protección térmica del transbordador, posiblemente debido a la aspiración inducida por el chorro de gases de escape de los SRB. Rocco Petrone, director de la división de transporte espacial de Rockwell y sus colegas vieron esta situación como una restricción de lanzamiento, y le dijeron a los directivos de Rockwell en el Cabo que no podían apoyar un lanzamiento. Sin embargo, los gerentes de Rockwell en el Cabo expresaron sus preocupaciones de una manera que llevó al director de la misión con sede en Houston, Arnold Aldrich, a seguir adelante con el lanzamiento. Aldrich decidió posponer el lanzamiento de la lanzadera por una hora para darle tiempo al equipo de hielo a llevar a cabo otra inspección. Después de la última, en la que apareció hielo derretido, finalmente se autorizó al Challenger a despegar a las 11:38 am EST."
   ]
  },
  {
   "cell_type": "code",
   "execution_count": 3,
   "metadata": {},
   "outputs": [
    {
     "data": {
      "image/jpeg": "[encoded data removed]",
      "text/html": [
       "\n",
       "        <iframe\n",
       "            width=\"400\"\n",
       "            height=\"300\"\n",
       "            src=\"https://www.youtube.com/embed/j4JOjcDFtBE\"\n",
       "            frameborder=\"0\"\n",
       "            allowfullscreen\n",
       "        ></iframe>\n",
       "        "
      ],
      "text/plain": [
       "<IPython.lib.display.YouTubeVideo at 0x10a2feb70>"
      ]
     },
     "execution_count": 3,
     "metadata": {},
     "output_type": "execute_result"
    }
   ],
   "source": [
    "from IPython.display import YouTubeVideo\n",
    "# a talk about IPython at Sage Days at U. Washington, Seattle.\n",
    "# Video credit: William Stein.\n",
    "YouTubeVideo('j4JOjcDFtBE')"
   ]
  },
  {
   "cell_type": "code",
   "execution_count": 4,
   "metadata": {},
   "outputs": [],
   "source": [
    "import pandas as pd\n",
    "import numpy as np\n",
    "import matplotlib.pyplot as plt"
   ]
  },
  {
   "cell_type": "code",
   "execution_count": 5,
   "metadata": {},
   "outputs": [
    {
     "data": {
      "text/html": [
       "<div>\n",
       "<style>\n",
       "    .dataframe thead tr:only-child th {\n",
       "        text-align: right;\n",
       "    }\n",
       "\n",
       "    .dataframe thead th {\n",
       "        text-align: left;\n",
       "    }\n",
       "\n",
       "    .dataframe tbody tr th {\n",
       "        vertical-align: top;\n",
       "    }\n",
       "</style>\n",
       "<table border=\"1\" class=\"dataframe\">\n",
       "  <thead>\n",
       "    <tr style=\"text-align: right;\">\n",
       "      <th></th>\n",
       "      <th>Observation</th>\n",
       "      <th>Y</th>\n",
       "      <th>X</th>\n",
       "    </tr>\n",
       "  </thead>\n",
       "  <tbody>\n",
       "    <tr>\n",
       "      <th>0</th>\n",
       "      <td>1</td>\n",
       "      <td>1</td>\n",
       "      <td>53</td>\n",
       "    </tr>\n",
       "    <tr>\n",
       "      <th>1</th>\n",
       "      <td>2</td>\n",
       "      <td>1</td>\n",
       "      <td>53</td>\n",
       "    </tr>\n",
       "    <tr>\n",
       "      <th>2</th>\n",
       "      <td>3</td>\n",
       "      <td>1</td>\n",
       "      <td>53</td>\n",
       "    </tr>\n",
       "    <tr>\n",
       "      <th>3</th>\n",
       "      <td>4</td>\n",
       "      <td>0</td>\n",
       "      <td>53</td>\n",
       "    </tr>\n",
       "    <tr>\n",
       "      <th>4</th>\n",
       "      <td>5</td>\n",
       "      <td>0</td>\n",
       "      <td>53</td>\n",
       "    </tr>\n",
       "  </tbody>\n",
       "</table>\n",
       "</div>"
      ],
      "text/plain": [
       "   Observation  Y   X\n",
       "0            1  1  53\n",
       "1            2  1  53\n",
       "2            3  1  53\n",
       "3            4  0  53\n",
       "4            5  0  53"
      ]
     },
     "metadata": {},
     "output_type": "display_data"
    },
    {
     "data": {
      "text/plain": [
       "(120, 3)"
      ]
     },
     "execution_count": 5,
     "metadata": {},
     "output_type": "execute_result"
    }
   ],
   "source": [
    "# Leemos el archivo con los datos.\n",
    "data=pd.read_csv(\"challenger-data.csv\")\n",
    "display(data.head())\n",
    "data.shape"
   ]
  },
  {
   "cell_type": "code",
   "execution_count": 6,
   "metadata": {},
   "outputs": [],
   "source": [
    "# subsetting data\n",
    "failures = data.loc[(data.Y == 1)]\n",
    "no_failures = data.loc[(data.Y == 0)]\n",
    "\n",
    "# frequencies\n",
    "failures_freq = failures.X.value_counts()#failures.groupby('X')\n",
    "no_failures_freq = no_failures.X.value_counts()\n",
    "\n"
   ]
  },
  {
   "cell_type": "code",
   "execution_count": 7,
   "metadata": {},
   "outputs": [
    {
     "data": {
      "image/png": "[encoded data removed]",
      "text/plain": [
       "<matplotlib.figure.Figure at 0x116ad6550>"
      ]
     },
     "metadata": {},
     "output_type": "display_data"
    }
   ],
   "source": [
    "plt.figure(figsize=(10,4))\n",
    "plt.scatter(failures_freq.index, failures_freq, c='red', s=40)\n",
    "plt.scatter(no_failures_freq.index, np.zeros(len(no_failures_freq)), c='blue', s=40)\n",
    "plt.xlabel('X: Temperature')\n",
    "plt.ylabel('Number of Failures')\n",
    "plt.title(\"Registros fallas Challenger\")\n",
    "plt.show()"
   ]
  },
  {
   "cell_type": "code",
   "execution_count": 8,
   "metadata": {},
   "outputs": [
    {
     "name": "stdout",
     "output_type": "stream",
     "text": [
      "Optimization terminated successfully.\n",
      "         Current function value: 0.242411\n",
      "         Iterations 7\n",
      "                        Results: Logit\n",
      "==============================================================\n",
      "Model:              Logit            No. Iterations:   7.0000 \n",
      "Dependent Variable: Y                Pseudo R-squared: 0.155  \n",
      "Date:               2019-09-29 17:10 AIC:              62.1787\n",
      "No. Observations:   120              BIC:              67.7536\n",
      "Df Model:           1                Log-Likelihood:   -29.089\n",
      "Df Residuals:       118              LL-Null:          -34.420\n",
      "Converged:          1.0000           Scale:            1.0000 \n",
      "---------------------------------------------------------------\n",
      "            Coef.   Std.Err.     z     P>|z|    [0.025   0.975]\n",
      "---------------------------------------------------------------\n",
      "Intercept   7.4049    3.0408   2.4352  0.0149   1.4450  13.3648\n",
      "X          -0.1466    0.0472  -3.1044  0.0019  -0.2392  -0.0540\n",
      "==============================================================\n",
      "\n"
     ]
    }
   ],
   "source": [
    "from patsy import dmatrices\n",
    "import statsmodels.discrete.discrete_model as sm\n",
    "\n",
    "#get the data in correct format\n",
    "y, X = dmatrices('Y ~ X', data, return_type = 'dataframe')\n",
    "#build the model\n",
    "logit = sm.Logit(y, X)\n",
    "result = logit.fit()\n",
    "# summarize the model\n",
    "print(result.summary2())"
   ]
  },
  {
   "cell_type": "code",
   "execution_count": 9,
   "metadata": {},
   "outputs": [],
   "source": [
    "def log(x):\n",
    "    y=7.4049-0.1466*x\n",
    "    import numpy as np\n",
    "    e=np.exp(-y)\n",
    "    mu=1/(1+e)\n",
    "    return(mu)"
   ]
  },
  {
   "cell_type": "code",
   "execution_count": 10,
   "metadata": {},
   "outputs": [
    {
     "data": {
      "image/png": "[encoded data removed]",
      "text/plain": [
       "<matplotlib.figure.Figure at 0x1093077b8>"
      ]
     },
     "metadata": {},
     "output_type": "display_data"
    }
   ],
   "source": [
    "i=[x for x in range(20,80)]\n",
    "r=[log(x) for x in range(20,80)]\n",
    "\n",
    "plt.figure(figsize=(10,4))\n",
    "plt.plot(i,r)\n",
    "\n",
    "plt.xlabel(\"Temperatura Fº\")\n",
    "plt.ylabel(\"Probabilida de Falla\")\n",
    "plt.title(\"Regresión Logística Challenger\")\n",
    "\n",
    "plt.show()"
   ]
  },
  {
   "cell_type": "code",
   "execution_count": 11,
   "metadata": {},
   "outputs": [
    {
     "name": "stdout",
     "output_type": "stream",
     "text": [
      " La temperatura al despegue fuese de 50 ºF\n",
      "La probabilidad de falla es del 0.518716250955%\n"
     ]
    }
   ],
   "source": [
    "# Si la temperatura fuera 50 grados cual es la probabilidad de falla\n",
    "x=50\n",
    "p=log(x)\n",
    "print(\" La temperatura al despegue fuese de 50 ºF\")\n",
    "print(\"La probabilidad de falla es del \"+str(p)+\"%\")"
   ]
  },
  {
   "cell_type": "code",
   "execution_count": 12,
   "metadata": {},
   "outputs": [
    {
     "name": "stdout",
     "output_type": "stream",
     "text": [
      " La temperatura al despegue fuese de 29 ºF\n",
      "La probabilidad de falla es del 0.959046410254%\n"
     ]
    }
   ],
   "source": [
    "# Si la temperatura fuera 29 grados cual es la probabilidad de falla\n",
    "x=29\n",
    "p=log(x)\n",
    "print(\" La temperatura al despegue fuese de 29 ºF\")\n",
    "print(\"La probabilidad de falla es del \"+str(p)+\"%\")"
   ]
  },
  {
   "cell_type": "markdown",
   "metadata": {},
   "source": [
    "# Testing el modelo - confusión matrix"
   ]
  },
  {
   "cell_type": "code",
   "execution_count": 13,
   "metadata": {},
   "outputs": [
    {
     "data": {
      "text/html": [
       "<div>\n",
       "<style>\n",
       "    .dataframe thead tr:only-child th {\n",
       "        text-align: right;\n",
       "    }\n",
       "\n",
       "    .dataframe thead th {\n",
       "        text-align: left;\n",
       "    }\n",
       "\n",
       "    .dataframe tbody tr th {\n",
       "        vertical-align: top;\n",
       "    }\n",
       "</style>\n",
       "<table border=\"1\" class=\"dataframe\">\n",
       "  <thead>\n",
       "    <tr style=\"text-align: right;\">\n",
       "      <th></th>\n",
       "      <th>Observation</th>\n",
       "      <th>Y</th>\n",
       "      <th>X</th>\n",
       "    </tr>\n",
       "  </thead>\n",
       "  <tbody>\n",
       "    <tr>\n",
       "      <th>0</th>\n",
       "      <td>1</td>\n",
       "      <td>1</td>\n",
       "      <td>53</td>\n",
       "    </tr>\n",
       "    <tr>\n",
       "      <th>1</th>\n",
       "      <td>2</td>\n",
       "      <td>1</td>\n",
       "      <td>53</td>\n",
       "    </tr>\n",
       "    <tr>\n",
       "      <th>2</th>\n",
       "      <td>3</td>\n",
       "      <td>1</td>\n",
       "      <td>53</td>\n",
       "    </tr>\n",
       "    <tr>\n",
       "      <th>3</th>\n",
       "      <td>4</td>\n",
       "      <td>0</td>\n",
       "      <td>53</td>\n",
       "    </tr>\n",
       "    <tr>\n",
       "      <th>4</th>\n",
       "      <td>5</td>\n",
       "      <td>0</td>\n",
       "      <td>53</td>\n",
       "    </tr>\n",
       "  </tbody>\n",
       "</table>\n",
       "</div>"
      ],
      "text/plain": [
       "   Observation  Y   X\n",
       "0            1  1  53\n",
       "1            2  1  53\n",
       "2            3  1  53\n",
       "3            4  0  53\n",
       "4            5  0  53"
      ]
     },
     "execution_count": 13,
     "metadata": {},
     "output_type": "execute_result"
    }
   ],
   "source": [
    "data.head()"
   ]
  },
  {
   "cell_type": "code",
   "execution_count": 14,
   "metadata": {},
   "outputs": [],
   "source": [
    "from sklearn.model_selection import train_test_split\n",
    "x_train, x_test, y_train, y_test = train_test_split(data['X'],\n",
    "                        data['Y'], test_size=0.2, random_state=0)"
   ]
  },
  {
   "cell_type": "code",
   "execution_count": 15,
   "metadata": {},
   "outputs": [
    {
     "name": "stdout",
     "output_type": "stream",
     "text": [
      "[0, 0, 0, 0, 0, 0, 0, 0, 0, 0, 0, 0, 0, 0, 0, 0, 0, 0, 0, 0, 0, 0, 0, 0]\n"
     ]
    }
   ],
   "source": [
    "threshold=0.5\n",
    "RegresionLogistica=[1 if log(x)> threshold else 0 for x in x_test ]\n",
    "print(RegresionLogistica)"
   ]
  },
  {
   "cell_type": "code",
   "execution_count": 16,
   "metadata": {},
   "outputs": [],
   "source": [
    "from sklearn.metrics import confusion_matrix"
   ]
  },
  {
   "cell_type": "code",
   "execution_count": 17,
   "metadata": {},
   "outputs": [
    {
     "data": {
      "text/plain": [
       "array([[21,  0],\n",
       "       [ 3,  0]])"
      ]
     },
     "execution_count": 17,
     "metadata": {},
     "output_type": "execute_result"
    }
   ],
   "source": [
    "confusion_matrix(y_test,RegresionLogistica)"
   ]
  },
  {
   "cell_type": "code",
   "execution_count": 18,
   "metadata": {},
   "outputs": [
    {
     "name": "stdout",
     "output_type": "stream",
     "text": [
      " El modelo muestra un accuracy de: 0.875\n",
      " El modelo muestra una precision de: 0.875\n"
     ]
    }
   ],
   "source": [
    "# Cheking performace of the model\n",
    "\n",
    "from sklearn.metrics import accuracy_score\n",
    "from sklearn.metrics import precision_score\n",
    "\n",
    "y_orig=y_test\n",
    "y_pred=RegresionLogistica\n",
    "\n",
    "a=accuracy_score(y_orig,y_pred)\n",
    "b=precision_score(y_orig,y_pred,average='micro')\n",
    "\n",
    "print(\" El modelo muestra un accuracy de: \"+str(a))\n",
    "print(\" El modelo muestra una precision de: \"+str(b))"
   ]
  },
  {
   "cell_type": "code",
   "execution_count": 19,
   "metadata": {},
   "outputs": [
    {
     "data": {
      "image/png": "[encoded data removed]",
      "text/plain": [
       "<matplotlib.figure.Figure at 0x10934aa58>"
      ]
     },
     "metadata": {},
     "output_type": "display_data"
    }
   ],
   "source": [
    "\n",
    "etiquetas = ['No Falla', 'Falla']\n",
    "cm = confusion_matrix(y_test,RegresionLogistica)\n",
    "\n",
    "fig = plt.figure(figsize=(6,6))\n",
    "ax = fig.add_subplot(111)\n",
    "cax = ax.matshow(cm)\n",
    "t=plt.title('Confusion matrix',fontsize=18)\n",
    "t.set_position([0.5, 1.1])\n",
    "\n",
    "\n",
    "fig.colorbar(cax)\n",
    "plt.tight_layout()\n",
    "\n",
    "ax.set_xticklabels([''] + etiquetas)\n",
    "ax.set_yticklabels([''] + etiquetas)\n",
    "plt.xlabel('Predicción',fontsize=14)\n",
    "plt.ylabel('Verdadero',fontsize=14)\n",
    "plt.show()"
   ]
  },
  {
   "cell_type": "code",
   "execution_count": null,
   "metadata": {},
   "outputs": [],
   "source": []
  }
 ],
 "metadata": {
  "kernelspec": {
   "display_name": "Python 3",
   "language": "python",
   "name": "python3"
  },
  "language_info": {
   "codemirror_mode": {
    "name": "ipython",
    "version": 3
   },
   "file_extension": ".py",
   "mimetype": "text/x-python",
   "name": "python",
   "nbconvert_exporter": "python",
   "pygments_lexer": "ipython3",
   "version": "3.6.3"
  }
 },
 "nbformat": 4,
 "nbformat_minor": 2
}
